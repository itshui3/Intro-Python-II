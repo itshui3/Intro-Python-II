{
 "cells": [
  {
   "cell_type": "code",
   "execution_count": 81,
   "metadata": {},
   "outputs": [],
   "source": [
    "# let's say we have a cat, a dog, and a snake\n",
    "# using inheritance, give all these animals a name, and a weight\n",
    "# but individual methods to make their own animal sound\n",
    "# dogs woof\n",
    "# cats meow\n",
    "# snakes hiss"
   ]
  },
  {
   "cell_type": "code",
   "execution_count": 82,
   "metadata": {},
   "outputs": [],
   "source": [
    "# Understand\n",
    "# 3 animals \n",
    "# each animal has a name and a weight\n",
    "# parent class is animal\n",
    "# child classes will be dogs/cats/snakes\n",
    "# each of the child classes require a unique method\n",
    "# while inheriting weight/name from parent animal class\n",
    "\n",
    "# there's too much code\n",
    "# feels like we just need the parent"
   ]
  },
  {
   "cell_type": "code",
   "execution_count": 83,
   "metadata": {},
   "outputs": [],
   "source": [
    "# Plan\n",
    "# build 1 parent\n",
    "# build 3 children"
   ]
  },
  {
   "cell_type": "code",
   "execution_count": 85,
   "metadata": {},
   "outputs": [],
   "source": [
    "# Execute\n",
    "class Animal:\n",
    "    def __init__(self, name, weight, species):\n",
    "        self.name = name\n",
    "        self.weight = weight\n",
    "        self.species = species()\n",
    "        \n",
    "\n",
    "class Dog:\n",
    "    def makeSound(self, sound):\n",
    "        return f'{self.name} goes {sound}'\n",
    "    \n",
    "class Cat:\n",
    "    def makeSound(self):\n",
    "        return f'{self.name} goes meow'"
   ]
  },
  {
   "cell_type": "code",
   "execution_count": 86,
   "metadata": {},
   "outputs": [],
   "source": [
    "# Reflect"
   ]
  },
  {
   "cell_type": "code",
   "execution_count": 87,
   "metadata": {},
   "outputs": [
    {
     "name": "stdout",
     "output_type": "stream",
     "text": [
      "dog goes woof!\n"
     ]
    }
   ],
   "source": [
    "myDog = Animal('spot', 10, Dog)\n",
    "myDog.species.makeSound(myDog, 'woof')"
   ]
  },
  {
   "cell_type": "code",
   "execution_count": null,
   "metadata": {},
   "outputs": [],
   "source": []
  }
 ],
 "metadata": {
  "kernelspec": {
   "display_name": "Python 3",
   "language": "python",
   "name": "python3"
  },
  "language_info": {
   "codemirror_mode": {
    "name": "ipython",
    "version": 3
   },
   "file_extension": ".py",
   "mimetype": "text/x-python",
   "name": "python",
   "nbconvert_exporter": "python",
   "pygments_lexer": "ipython3",
   "version": "3.8.2"
  }
 },
 "nbformat": 4,
 "nbformat_minor": 4
}
